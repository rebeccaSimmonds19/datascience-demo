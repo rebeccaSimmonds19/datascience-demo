{
 "cells": [
  {
   "cell_type": "markdown",
   "metadata": {},
   "source": [
    "# Wine Map Notebook\n",
    "    \n",
    "    \n",
    "This notebook is for prototyping a winemap that will empower users to travel to destinations with good wine.\n",
    "\n",
    "First of all we will import all the modules we need.\n"
   ]
  },
  {
   "cell_type": "code",
   "execution_count": 3,
   "metadata": {},
   "outputs": [
    {
     "data": {
      "text/html": [
       "<script>requirejs.config({paths: { 'plotly': ['https://cdn.plot.ly/plotly-latest.min']},});if(!window.Plotly) {{require(['plotly'],function(plotly) {window.Plotly=plotly;});}}</script>"
      ],
      "text/vnd.plotly.v1+html": [
       "<script>requirejs.config({paths: { 'plotly': ['https://cdn.plot.ly/plotly-latest.min']},});if(!window.Plotly) {{require(['plotly'],function(plotly) {window.Plotly=plotly;});}}</script>"
      ]
     },
     "metadata": {},
     "output_type": "display_data"
    }
   ],
   "source": [
    "import pyspark\n",
    "from pyspark.sql import SparkSession, SQLContext\n",
    "from pyspark.context import SparkContext\n",
    "from pyspark.sql.functions import mean, desc\n",
    "import plotly.plotly as py\n",
    "from plotly.offline import download_plotlyjs, init_notebook_mode, plot,iplot\n",
    "import plotly.graph_objs as go\n",
    "init_notebook_mode(connected=True)"
   ]
  },
  {
   "cell_type": "markdown",
   "metadata": {},
   "source": [
    "Then we will create or get a spark cluster to do our analysis with."
   ]
  },
  {
   "cell_type": "code",
   "execution_count": 4,
   "metadata": {
    "collapsed": true
   },
   "outputs": [],
   "source": [
    "sparkSession = SparkSession.builder.master(\"local\").getOrCreate()"
   ]
  },
  {
   "cell_type": "markdown",
   "metadata": {},
   "source": [
    "Here we create a dataframe to hold the data. This works well for data that is organised into columns, which our data is!\n",
    "    \n",
    "Tip: The data is loaded into memory when you make a dataframe like this so for prototyping you may want to cut out unnecessary columns (like description) and not use them for this."
   ]
  },
  {
   "cell_type": "code",
   "execution_count": 5,
   "metadata": {
    "collapsed": true
   },
   "outputs": [],
   "source": [
    "df = (sparkSession.read\n",
    "        .format(\"com.databricks.spark.csv\")\n",
    "        .option(\"header\", \"true\")\n",
    "        .option(\"inferSchema\", \"true\")\n",
    "        .load(\"wine_no_des.csv\"))"
   ]
  },
  {
   "cell_type": "markdown",
   "metadata": {},
   "source": [
    "Now we want to so some analysis with Apache Spark So we take the columns country and points and we groupby country. We then want to take the mean of these values for each country and put them into a list.\n"
   ]
  },
  {
   "cell_type": "code",
   "execution_count": 8,
   "metadata": {},
   "outputs": [],
   "source": [
    "table = df.select('country','points').groupBy('country').agg(mean('points')).orderBy('avg(points)',ascending=False)\n",
    "countryCols = table.select('country').collect()\n",
    "countries = list()\n",
    "for country in countryCols:\n",
    "    countries.append(str(country[0]))\n",
    "pointCols = table.select('avg(points)').collect()\n",
    "points = list()\n",
    "for point in pointCols:\n",
    "    points.append(point[0])"
   ]
  },
  {
   "cell_type": "markdown",
   "metadata": {},
   "source": [
    "Then we want to take these results and add them into a map.\n",
    "\n"
   ]
  },
  {
   "cell_type": "code",
   "execution_count": 12,
   "metadata": {},
   "outputs": [
    {
     "data": {
      "application/vnd.plotly.v1+json": {
       "data": [
        {
         "colorbar": {
          "title": "Average Rating"
         },
         "colorscale": "Jet",
         "locationmode": "country names",
         "locations": [
          "England",
          "None",
          "Switzerland",
          "Austria",
          "France",
          "Germany",
          "Morocco",
          "Italy",
          "Canada",
          "India",
          "Slovenia",
          "Hungary",
          "Australia",
          "US",
          "Turkey",
          "New Zealand",
          "Albania",
          "Portugal",
          "Israel",
          "Serbia",
          "Croatia",
          "South Africa",
          "Moldova",
          "Lebanon",
          "Macedonia",
          "Cyprus",
          "Spain",
          "Bulgaria",
          "Greece",
          "Chile",
          "Romania",
          "Argentina",
          "Bosnia and Herzegovina",
          "Uruguay",
          "Georgia",
          "Japan",
          "Ukraine",
          "Lithuania",
          "Brazil",
          "Mexico",
          "China",
          "Montenegro",
          "South Korea"
         ],
         "type": "choropleth",
         "z": [
          92.88888888888889,
          90,
          90,
          89.5986301369863,
          88.93373307143595,
          88.87385321100918,
          88.72727272727273,
          88.53147996729354,
          88.49019607843137,
          88.42857142857143,
          88.41379310344827,
          88.33766233766234,
          88.23790552077405,
          88.13845868152275,
          88.09803921568627,
          88.04268943436499,
          88,
          87.99804228660923,
          87.79821958456974,
          87.71428571428571,
          87.62857142857143,
          87.5940959409594,
          87.46153846153847,
          87.375,
          87.14285714285714,
          87,
          86.81990778410632,
          86.80555555555556,
          86.76109215017065,
          86.70969245107176,
          86.29268292682927,
          86.11,
          85.5,
          85.46153846153847,
          85.4375,
          85,
          84.6,
          84.25,
          83.875,
          83.3,
          82,
          82,
          81.5
         ]
        }
       ],
       "layout": {
        "geo": {
         "scope": "world"
        }
       }
      },
      "text/html": [
       "<div id=\"6fa892f7-44cd-469d-a7f6-21d71ede1627\" style=\"height: 525px; width: 100%;\" class=\"plotly-graph-div\"></div><script type=\"text/javascript\">require([\"plotly\"], function(Plotly) { window.PLOTLYENV=window.PLOTLYENV || {};window.PLOTLYENV.BASE_URL=\"https://plot.ly\";Plotly.newPlot(\"6fa892f7-44cd-469d-a7f6-21d71ede1627\", [{\"type\": \"choropleth\", \"locationmode\": \"country names\", \"locations\": [\"England\", \"None\", \"Switzerland\", \"Austria\", \"France\", \"Germany\", \"Morocco\", \"Italy\", \"Canada\", \"India\", \"Slovenia\", \"Hungary\", \"Australia\", \"US\", \"Turkey\", \"New Zealand\", \"Albania\", \"Portugal\", \"Israel\", \"Serbia\", \"Croatia\", \"South Africa\", \"Moldova\", \"Lebanon\", \"Macedonia\", \"Cyprus\", \"Spain\", \"Bulgaria\", \"Greece\", \"Chile\", \"Romania\", \"Argentina\", \"Bosnia and Herzegovina\", \"Uruguay\", \"Georgia\", \"Japan\", \"Ukraine\", \"Lithuania\", \"Brazil\", \"Mexico\", \"China\", \"Montenegro\", \"South Korea\"], \"colorscale\": \"Jet\", \"z\": [92.88888888888889, 90.0, 90.0, 89.5986301369863, 88.93373307143595, 88.87385321100918, 88.72727272727273, 88.53147996729354, 88.49019607843137, 88.42857142857143, 88.41379310344827, 88.33766233766234, 88.23790552077405, 88.13845868152275, 88.09803921568627, 88.04268943436499, 88.0, 87.99804228660923, 87.79821958456974, 87.71428571428571, 87.62857142857143, 87.5940959409594, 87.46153846153847, 87.375, 87.14285714285714, 87.0, 86.81990778410632, 86.80555555555556, 86.76109215017065, 86.70969245107176, 86.29268292682927, 86.11, 85.5, 85.46153846153847, 85.4375, 85.0, 84.6, 84.25, 83.875, 83.3, 82.0, 82.0, 81.5], \"colorbar\": {\"title\": \"Average Rating\"}}], {\"geo\": {\"scope\": \"world\"}}, {\"showLink\": true, \"linkText\": \"Export to plot.ly\"})});</script>"
      ],
      "text/vnd.plotly.v1+html": [
       "<div id=\"6fa892f7-44cd-469d-a7f6-21d71ede1627\" style=\"height: 525px; width: 100%;\" class=\"plotly-graph-div\"></div><script type=\"text/javascript\">require([\"plotly\"], function(Plotly) { window.PLOTLYENV=window.PLOTLYENV || {};window.PLOTLYENV.BASE_URL=\"https://plot.ly\";Plotly.newPlot(\"6fa892f7-44cd-469d-a7f6-21d71ede1627\", [{\"type\": \"choropleth\", \"locationmode\": \"country names\", \"locations\": [\"England\", \"None\", \"Switzerland\", \"Austria\", \"France\", \"Germany\", \"Morocco\", \"Italy\", \"Canada\", \"India\", \"Slovenia\", \"Hungary\", \"Australia\", \"US\", \"Turkey\", \"New Zealand\", \"Albania\", \"Portugal\", \"Israel\", \"Serbia\", \"Croatia\", \"South Africa\", \"Moldova\", \"Lebanon\", \"Macedonia\", \"Cyprus\", \"Spain\", \"Bulgaria\", \"Greece\", \"Chile\", \"Romania\", \"Argentina\", \"Bosnia and Herzegovina\", \"Uruguay\", \"Georgia\", \"Japan\", \"Ukraine\", \"Lithuania\", \"Brazil\", \"Mexico\", \"China\", \"Montenegro\", \"South Korea\"], \"colorscale\": \"Jet\", \"z\": [92.88888888888889, 90.0, 90.0, 89.5986301369863, 88.93373307143595, 88.87385321100918, 88.72727272727273, 88.53147996729354, 88.49019607843137, 88.42857142857143, 88.41379310344827, 88.33766233766234, 88.23790552077405, 88.13845868152275, 88.09803921568627, 88.04268943436499, 88.0, 87.99804228660923, 87.79821958456974, 87.71428571428571, 87.62857142857143, 87.5940959409594, 87.46153846153847, 87.375, 87.14285714285714, 87.0, 86.81990778410632, 86.80555555555556, 86.76109215017065, 86.70969245107176, 86.29268292682927, 86.11, 85.5, 85.46153846153847, 85.4375, 85.0, 84.6, 84.25, 83.875, 83.3, 82.0, 82.0, 81.5], \"colorbar\": {\"title\": \"Average Rating\"}}], {\"geo\": {\"scope\": \"world\"}}, {\"showLink\": true, \"linkText\": \"Export to plot.ly\"})});</script>"
      ]
     },
     "metadata": {},
     "output_type": "display_data"
    }
   ],
   "source": [
    "data =  dict(type = 'choropleth',\n",
    "        locationmode='country names',\n",
    "        locations = countries,\n",
    "        colorscale='Jet',\n",
    "        z = points,\n",
    "        colorbar = {'title': 'Average Rating'}\n",
    "        )\n",
    "layout = dict(geo = {'scope':'world'})\n",
    "choromap = go.Figure(data = [data],layout = layout)\n",
    "iplot(choromap)"
   ]
  },
  {
   "cell_type": "code",
   "execution_count": null,
   "metadata": {
    "collapsed": true
   },
   "outputs": [],
   "source": []
  }
 ],
 "metadata": {
  "kernelspec": {
   "display_name": "Python 3",
   "language": "python",
   "name": "python3"
  },
  "language_info": {
   "codemirror_mode": {
    "name": "ipython",
    "version": 3
   },
   "file_extension": ".py",
   "mimetype": "text/x-python",
   "name": "python",
   "nbconvert_exporter": "python",
   "pygments_lexer": "ipython3",
   "version": "3.6.3"
  }
 },
 "nbformat": 4,
 "nbformat_minor": 2
}
